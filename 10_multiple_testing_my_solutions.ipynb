{
 "cells": [
  {
   "cell_type": "markdown",
   "metadata": {},
   "source": [
    "# A/B Testing Course"
   ]
  },
  {
   "cell_type": "markdown",
   "metadata": {},
   "source": [
    "## Lesson 10. Multiple Testing"
   ]
  },
  {
   "cell_type": "markdown",
   "metadata": {},
   "source": [
    "### Homework"
   ]
  },
  {
   "cell_type": "markdown",
   "metadata": {},
   "source": [
    "#### Import Libraries"
   ]
  },
  {
   "cell_type": "code",
   "execution_count": 1,
   "metadata": {
    "executionInfo": {
     "elapsed": 580,
     "status": "ok",
     "timestamp": 1674542192205,
     "user": {
      "displayName": "Nikolay Nazarov",
      "userId": "18018785782997408667"
     },
     "user_tz": -420
    },
    "id": "agQEC38nE-72",
    "tags": []
   },
   "outputs": [],
   "source": [
    "import os\n",
    "import pandas as pd\n",
    "import numpy as np\n",
    "\n",
    "import seaborn as sns\n",
    "import matplotlib.pyplot as plt"
   ]
  },
  {
   "cell_type": "code",
   "execution_count": 2,
   "metadata": {},
   "outputs": [],
   "source": [
    "from scipy.stats import ttest_ind"
   ]
  },
  {
   "cell_type": "markdown",
   "metadata": {},
   "source": [
    "#### Task 1. "
   ]
  },
  {
   "cell_type": "markdown",
   "metadata": {},
   "source": [
    "How many incompatible independent experiments can be conducted simultaneously if we collect 10,000 observations during the experiment?\n",
    "\n",
    "If we decide to run 10 experiments, we can allocate 1,000 observations per experiment, with a group size of 500.\n",
    "\n",
    "Experiment parameters:\n",
    "\n",
    "- Testing the hypothesis of equal means.\n",
    "- Significance level: 0.05.\n",
    "- Allowable probability of Type II error: 0.1.\n",
    "- Expected effect: increase in values by 3%.\n",
    "- Method of introducing the effect in synthetic A/B experiments: multiplication by a constant.\n",
    "- Assuming that the measured values follow a normal distribution with a mean of 100 and a standard deviation of 10.\n",
    "\n",
    "As the answer, please enter the maximum number of experiments that can be conducted with the given parameters."
   ]
  },
  {
   "cell_type": "code",
   "execution_count": 3,
   "metadata": {
    "tags": []
   },
   "outputs": [],
   "source": [
    "users = 10000\n",
    "alpha = 0.05\n",
    "beta = 0.1\n",
    "effect = 1.03\n",
    "mean = 100\n",
    "std = 10"
   ]
  },
  {
   "cell_type": "code",
   "execution_count": 4,
   "metadata": {
    "tags": []
   },
   "outputs": [],
   "source": [
    "num_exp_lst = []\n",
    "fpr_lst = []\n",
    "power_lst = []\n",
    "\n",
    "for num in range(1, 26):\n",
    "    users_in_exp = users // num\n",
    "    users_in_group = users_in_exp // 2\n",
    "    alpha_ = alpha / num  # Bonferroni correction\n",
    "    \n",
    "    pval_a_lst = []\n",
    "    pval_b_lst = []\n",
    "    for _ in range(10000):\n",
    "        a = np.random.normal(mean, std, users_in_group)\n",
    "        aa = np.random.normal(mean, std, users_in_group)\n",
    "        b = a * effect\n",
    "\n",
    "        _, pval_a = ttest_ind(a, aa)\n",
    "        _, pval_b = ttest_ind(a, b)\n",
    "        pval_a_lst.append(pval_a)\n",
    "        pval_b_lst.append(pval_b)\n",
    "\n",
    "    fp = [x for x in pval_a_lst if x < alpha_]\n",
    "    tp = [x for x in pval_b_lst if x < alpha_]\n",
    "\n",
    "    fpr = len(fp) / len(pval_a_lst)\n",
    "    power = len(tp) / len(pval_b_lst)\n",
    "    \n",
    "    num_exp_lst.append(num)\n",
    "    fpr_lst.append(fpr)\n",
    "    power_lst.append(power)\n",
    "    \n",
    "    \n",
    "result_df = pd.DataFrame(\n",
    "    {'experiments': num_exp_lst,\n",
    "     'fpr': fpr_lst,\n",
    "     'power': power_lst\n",
    "    }\n",
    ")  "
   ]
  },
  {
   "cell_type": "code",
   "execution_count": 5,
   "metadata": {
    "tags": []
   },
   "outputs": [
    {
     "data": {
      "text/html": [
       "<div>\n",
       "<style scoped>\n",
       "    .dataframe tbody tr th:only-of-type {\n",
       "        vertical-align: middle;\n",
       "    }\n",
       "\n",
       "    .dataframe tbody tr th {\n",
       "        vertical-align: top;\n",
       "    }\n",
       "\n",
       "    .dataframe thead th {\n",
       "        text-align: right;\n",
       "    }\n",
       "</style>\n",
       "<table border=\"1\" class=\"dataframe\">\n",
       "  <thead>\n",
       "    <tr style=\"text-align: right;\">\n",
       "      <th></th>\n",
       "      <th>experiments</th>\n",
       "      <th>fpr</th>\n",
       "      <th>power</th>\n",
       "    </tr>\n",
       "  </thead>\n",
       "  <tbody>\n",
       "    <tr>\n",
       "      <th>0</th>\n",
       "      <td>1</td>\n",
       "      <td>0.0461</td>\n",
       "      <td>1.0000</td>\n",
       "    </tr>\n",
       "    <tr>\n",
       "      <th>1</th>\n",
       "      <td>2</td>\n",
       "      <td>0.0239</td>\n",
       "      <td>1.0000</td>\n",
       "    </tr>\n",
       "    <tr>\n",
       "      <th>2</th>\n",
       "      <td>3</td>\n",
       "      <td>0.0156</td>\n",
       "      <td>1.0000</td>\n",
       "    </tr>\n",
       "    <tr>\n",
       "      <th>3</th>\n",
       "      <td>4</td>\n",
       "      <td>0.0135</td>\n",
       "      <td>1.0000</td>\n",
       "    </tr>\n",
       "    <tr>\n",
       "      <th>4</th>\n",
       "      <td>5</td>\n",
       "      <td>0.0099</td>\n",
       "      <td>1.0000</td>\n",
       "    </tr>\n",
       "    <tr>\n",
       "      <th>5</th>\n",
       "      <td>6</td>\n",
       "      <td>0.0080</td>\n",
       "      <td>1.0000</td>\n",
       "    </tr>\n",
       "    <tr>\n",
       "      <th>6</th>\n",
       "      <td>7</td>\n",
       "      <td>0.0076</td>\n",
       "      <td>1.0000</td>\n",
       "    </tr>\n",
       "    <tr>\n",
       "      <th>7</th>\n",
       "      <td>8</td>\n",
       "      <td>0.0053</td>\n",
       "      <td>1.0000</td>\n",
       "    </tr>\n",
       "    <tr>\n",
       "      <th>8</th>\n",
       "      <td>9</td>\n",
       "      <td>0.0062</td>\n",
       "      <td>1.0000</td>\n",
       "    </tr>\n",
       "    <tr>\n",
       "      <th>9</th>\n",
       "      <td>10</td>\n",
       "      <td>0.0054</td>\n",
       "      <td>1.0000</td>\n",
       "    </tr>\n",
       "    <tr>\n",
       "      <th>10</th>\n",
       "      <td>11</td>\n",
       "      <td>0.0035</td>\n",
       "      <td>1.0000</td>\n",
       "    </tr>\n",
       "    <tr>\n",
       "      <th>11</th>\n",
       "      <td>12</td>\n",
       "      <td>0.0032</td>\n",
       "      <td>1.0000</td>\n",
       "    </tr>\n",
       "    <tr>\n",
       "      <th>12</th>\n",
       "      <td>13</td>\n",
       "      <td>0.0033</td>\n",
       "      <td>1.0000</td>\n",
       "    </tr>\n",
       "    <tr>\n",
       "      <th>13</th>\n",
       "      <td>14</td>\n",
       "      <td>0.0021</td>\n",
       "      <td>1.0000</td>\n",
       "    </tr>\n",
       "    <tr>\n",
       "      <th>14</th>\n",
       "      <td>15</td>\n",
       "      <td>0.0032</td>\n",
       "      <td>1.0000</td>\n",
       "    </tr>\n",
       "    <tr>\n",
       "      <th>15</th>\n",
       "      <td>16</td>\n",
       "      <td>0.0023</td>\n",
       "      <td>1.0000</td>\n",
       "    </tr>\n",
       "    <tr>\n",
       "      <th>16</th>\n",
       "      <td>17</td>\n",
       "      <td>0.0033</td>\n",
       "      <td>1.0000</td>\n",
       "    </tr>\n",
       "    <tr>\n",
       "      <th>17</th>\n",
       "      <td>18</td>\n",
       "      <td>0.0037</td>\n",
       "      <td>0.9999</td>\n",
       "    </tr>\n",
       "    <tr>\n",
       "      <th>18</th>\n",
       "      <td>19</td>\n",
       "      <td>0.0027</td>\n",
       "      <td>0.9961</td>\n",
       "    </tr>\n",
       "    <tr>\n",
       "      <th>19</th>\n",
       "      <td>20</td>\n",
       "      <td>0.0023</td>\n",
       "      <td>0.9728</td>\n",
       "    </tr>\n",
       "    <tr>\n",
       "      <th>20</th>\n",
       "      <td>21</td>\n",
       "      <td>0.0020</td>\n",
       "      <td>0.8906</td>\n",
       "    </tr>\n",
       "    <tr>\n",
       "      <th>21</th>\n",
       "      <td>22</td>\n",
       "      <td>0.0024</td>\n",
       "      <td>0.7139</td>\n",
       "    </tr>\n",
       "    <tr>\n",
       "      <th>22</th>\n",
       "      <td>23</td>\n",
       "      <td>0.0024</td>\n",
       "      <td>0.5010</td>\n",
       "    </tr>\n",
       "    <tr>\n",
       "      <th>23</th>\n",
       "      <td>24</td>\n",
       "      <td>0.0022</td>\n",
       "      <td>0.3180</td>\n",
       "    </tr>\n",
       "    <tr>\n",
       "      <th>24</th>\n",
       "      <td>25</td>\n",
       "      <td>0.0020</td>\n",
       "      <td>0.1632</td>\n",
       "    </tr>\n",
       "  </tbody>\n",
       "</table>\n",
       "</div>"
      ],
      "text/plain": [
       "    experiments     fpr   power\n",
       "0             1  0.0461  1.0000\n",
       "1             2  0.0239  1.0000\n",
       "2             3  0.0156  1.0000\n",
       "3             4  0.0135  1.0000\n",
       "4             5  0.0099  1.0000\n",
       "5             6  0.0080  1.0000\n",
       "6             7  0.0076  1.0000\n",
       "7             8  0.0053  1.0000\n",
       "8             9  0.0062  1.0000\n",
       "9            10  0.0054  1.0000\n",
       "10           11  0.0035  1.0000\n",
       "11           12  0.0032  1.0000\n",
       "12           13  0.0033  1.0000\n",
       "13           14  0.0021  1.0000\n",
       "14           15  0.0032  1.0000\n",
       "15           16  0.0023  1.0000\n",
       "16           17  0.0033  1.0000\n",
       "17           18  0.0037  0.9999\n",
       "18           19  0.0027  0.9961\n",
       "19           20  0.0023  0.9728\n",
       "20           21  0.0020  0.8906\n",
       "21           22  0.0024  0.7139\n",
       "22           23  0.0024  0.5010\n",
       "23           24  0.0022  0.3180\n",
       "24           25  0.0020  0.1632"
      ]
     },
     "execution_count": 5,
     "metadata": {},
     "output_type": "execute_result"
    }
   ],
   "source": [
    "result_df"
   ]
  },
  {
   "cell_type": "code",
   "execution_count": 6,
   "metadata": {
    "tags": []
   },
   "outputs": [
    {
     "name": "stdout",
     "output_type": "stream",
     "text": [
      "The maximum number of experiments that can be conducted with the given parameters: 20\n"
     ]
    }
   ],
   "source": [
    "ans = result_df[(result_df['fpr'] < alpha) & (result_df['power'] > 1 - beta)].shape[0]\n",
    "\n",
    "print(f'The maximum number of experiments that can be conducted with the given parameters: {ans}')"
   ]
  },
  {
   "cell_type": "markdown",
   "metadata": {},
   "source": [
    "#### Task 2. "
   ]
  },
  {
   "cell_type": "markdown",
   "metadata": {},
   "source": [
    "tbc.."
   ]
  }
 ],
 "metadata": {
  "colab": {
   "collapsed_sections": [
    "KRzEGsPUE-7k"
   ],
   "provenance": []
  },
  "kernelspec": {
   "display_name": "Python 3 (ipykernel)",
   "language": "python",
   "name": "python3"
  },
  "language_info": {
   "codemirror_mode": {
    "name": "ipython",
    "version": 3
   },
   "file_extension": ".py",
   "mimetype": "text/x-python",
   "name": "python",
   "nbconvert_exporter": "python",
   "pygments_lexer": "ipython3",
   "version": "3.7.11"
  }
 },
 "nbformat": 4,
 "nbformat_minor": 4
}
