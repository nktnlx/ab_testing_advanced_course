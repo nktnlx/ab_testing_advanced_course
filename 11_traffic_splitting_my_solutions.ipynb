{
 "cells": [
  {
   "cell_type": "markdown",
   "metadata": {},
   "source": [
    "# A/B Testing Course"
   ]
  },
  {
   "cell_type": "markdown",
   "metadata": {},
   "source": [
    "## Lesson 11. Traffic Splitting"
   ]
  },
  {
   "cell_type": "markdown",
   "metadata": {},
   "source": [
    "### Homework"
   ]
  },
  {
   "cell_type": "markdown",
   "metadata": {},
   "source": [
    "#### Import Libraries"
   ]
  },
  {
   "cell_type": "code",
   "execution_count": 1,
   "metadata": {
    "executionInfo": {
     "elapsed": 580,
     "status": "ok",
     "timestamp": 1674542192205,
     "user": {
      "displayName": "Nikolay Nazarov",
      "userId": "18018785782997408667"
     },
     "user_tz": -420
    },
    "id": "agQEC38nE-72",
    "tags": []
   },
   "outputs": [],
   "source": [
    "import os\n",
    "import pandas as pd\n",
    "import numpy as np\n",
    "\n",
    "import seaborn as sns\n",
    "import matplotlib.pyplot as plt"
   ]
  },
  {
   "cell_type": "code",
   "execution_count": 2,
   "metadata": {},
   "outputs": [],
   "source": [
    "from scipy.stats import ttest_ind"
   ]
  },
  {
   "cell_type": "markdown",
   "metadata": {},
   "source": [
    "#### Task 1. "
   ]
  },
  {
   "cell_type": "markdown",
   "metadata": {},
   "source": [
    "Code `SplittingService` class `add_experiment` method. "
   ]
  },
  {
   "cell_type": "code",
   "execution_count": 91,
   "metadata": {
    "tags": []
   },
   "outputs": [
    {
     "name": "stdout",
     "output_type": "stream",
     "text": [
      "True [[1], [1], [1], [1]]\n",
      "True [[1, 2], [1, 2], [1], [1]]\n",
      "True [[1, 2], [1, 2], [1, 3], [1, 3]]\n",
      "False [[1, 2], [1, 2], [1, 3], [1, 3]]\n",
      "simple test passed\n"
     ]
    }
   ],
   "source": [
    "from pydantic import BaseModel\n",
    "\n",
    "\n",
    "class Experiment(BaseModel):\n",
    "    \"\"\"\n",
    "    id - experiment identifier.\n",
    "    buckets_count - desired number of buckets.\n",
    "    conflicts - a list of experiment identifiers that cannot be run simultaneously on the same users.\n",
    "    \"\"\"\n",
    "    id: int\n",
    "    buckets_count: int\n",
    "    conflicts: list = []\n",
    "\n",
    "\n",
    "class SplittingService:\n",
    "\n",
    "    def __init__(self, buckets_count):\n",
    "        \"\"\"Class for distributing experiments and users into buckets.\n",
    "        \n",
    "        :param buckets_count (int): number of buckets.\n",
    "        \"\"\"\n",
    "        self.buckets_count = buckets_count\n",
    "        self.buckets = [[] for _ in range(buckets_count)]\n",
    "\n",
    "    def add_experiment(self, experiment):\n",
    "        \"\"\"Checks if an experiment can be added, and adds it if possible.\n",
    "\n",
    "        :param experiment (Experiment): experiment parameters to be added\n",
    "        :return success, buckets:\n",
    "            success (boolean) - whether the experiment can be added, True if possible, False otherwise\n",
    "            buckets (list[list[int]]]) - list of buckets, where each bucket contains the identifiers of experiments being conducted in it.\n",
    "        \"\"\"\n",
    "        # YOUR_CODE_HERE\n",
    "        exp_id = experiment.id\n",
    "        exp_buckets = experiment.buckets_count\n",
    "        exp_conflicts = experiment.conflicts\n",
    "        if exp_conflicts == []:\n",
    "            exp_conflicts = [0]\n",
    "        \n",
    "        cnt = 0\n",
    "        for bucket in self.buckets:\n",
    "            for exp_conflict in exp_conflicts:\n",
    "                if exp_conflict in bucket:\n",
    "                    cnt += 1\n",
    "                    break\n",
    "                    \n",
    "        if self.buckets_count - cnt < exp_buckets or self.buckets_count < exp_buckets:\n",
    "            success = False\n",
    "        else:\n",
    "            success = True\n",
    "            \n",
    "        if success == True:\n",
    "            for bucket in range(self.buckets_count):\n",
    "                for exp_conflict in exp_conflicts:\n",
    "                    if exp_conflict in self.buckets[bucket]:\n",
    "                        continue \n",
    "                    elif exp_buckets > 0:\n",
    "                        if exp_id in self.buckets[bucket]:\n",
    "                            continue\n",
    "                        else:\n",
    "                            self.buckets[bucket].append(exp_id)\n",
    "                            exp_buckets -= 1\n",
    "            \n",
    "        return success, self.buckets\n",
    "\n",
    "        \n",
    "def check_correct_buckets(buckets, experiments):\n",
    "    for experiment in experiments:\n",
    "        buckets_with_exp = [b for b in buckets if experiment.id in b]\n",
    "        assert experiment.buckets_count == len(buckets_with_exp), 'Wrong number of buckets with experiments'\n",
    "        parallel_experiments = set(sum(buckets_with_exp, []))\n",
    "        err_msg = 'Incompatible experiments in one bucket'\n",
    "        assert len(set(experiment.conflicts) & parallel_experiments) == 0, err_msg\n",
    "\n",
    "\n",
    "if __name__ == '__main__':\n",
    "    experiments = [\n",
    "        Experiment(id=1, buckets_count=4, conflicts=[4]),\n",
    "        Experiment(id=2, buckets_count=2, conflicts=[3]),\n",
    "        Experiment(id=3, buckets_count=2, conflicts=[2]),\n",
    "        Experiment(id=4, buckets_count=1, conflicts=[1]),\n",
    "    ]\n",
    "    ideal_answers = [True, True, True, False]\n",
    "\n",
    "    splitting_service = SplittingService(buckets_count=4)\n",
    "    added_experiments = []\n",
    "    for index, (experiment, ideal_answer) in enumerate(zip(experiments, ideal_answers)):\n",
    "        success, buckets = splitting_service.add_experiment(experiment)\n",
    "        print(success, buckets)\n",
    "        assert success == ideal_answer, 'The split system is functioning suboptimally or incorrectly.'\n",
    "        if success:\n",
    "            added_experiments.append(experiment)\n",
    "        check_correct_buckets(buckets, added_experiments)\n",
    "    print('simple test passed')"
   ]
  },
  {
   "cell_type": "markdown",
   "metadata": {},
   "source": [
    "#### Task 2. "
   ]
  },
  {
   "cell_type": "markdown",
   "metadata": {},
   "source": [
    "tbc.."
   ]
  },
  {
   "cell_type": "code",
   "execution_count": null,
   "metadata": {
    "tags": []
   },
   "outputs": [],
   "source": []
  },
  {
   "cell_type": "code",
   "execution_count": null,
   "metadata": {},
   "outputs": [],
   "source": []
  },
  {
   "cell_type": "code",
   "execution_count": null,
   "metadata": {},
   "outputs": [],
   "source": []
  },
  {
   "cell_type": "code",
   "execution_count": null,
   "metadata": {},
   "outputs": [],
   "source": []
  },
  {
   "cell_type": "code",
   "execution_count": null,
   "metadata": {},
   "outputs": [],
   "source": []
  },
  {
   "cell_type": "code",
   "execution_count": null,
   "metadata": {},
   "outputs": [],
   "source": []
  },
  {
   "cell_type": "code",
   "execution_count": null,
   "metadata": {},
   "outputs": [],
   "source": []
  },
  {
   "cell_type": "code",
   "execution_count": null,
   "metadata": {},
   "outputs": [],
   "source": []
  },
  {
   "cell_type": "code",
   "execution_count": null,
   "metadata": {},
   "outputs": [],
   "source": []
  },
  {
   "cell_type": "code",
   "execution_count": null,
   "metadata": {},
   "outputs": [],
   "source": []
  },
  {
   "cell_type": "code",
   "execution_count": null,
   "metadata": {},
   "outputs": [],
   "source": []
  },
  {
   "cell_type": "code",
   "execution_count": null,
   "metadata": {},
   "outputs": [],
   "source": []
  },
  {
   "cell_type": "code",
   "execution_count": null,
   "metadata": {},
   "outputs": [],
   "source": []
  },
  {
   "cell_type": "code",
   "execution_count": null,
   "metadata": {},
   "outputs": [],
   "source": []
  },
  {
   "cell_type": "code",
   "execution_count": null,
   "metadata": {},
   "outputs": [],
   "source": []
  },
  {
   "cell_type": "code",
   "execution_count": null,
   "metadata": {},
   "outputs": [],
   "source": []
  },
  {
   "cell_type": "code",
   "execution_count": null,
   "metadata": {},
   "outputs": [],
   "source": []
  },
  {
   "cell_type": "code",
   "execution_count": null,
   "metadata": {},
   "outputs": [],
   "source": []
  }
 ],
 "metadata": {
  "colab": {
   "collapsed_sections": [
    "KRzEGsPUE-7k"
   ],
   "provenance": []
  },
  "kernelspec": {
   "display_name": "Python 3 (ipykernel)",
   "language": "python",
   "name": "python3"
  },
  "language_info": {
   "codemirror_mode": {
    "name": "ipython",
    "version": 3
   },
   "file_extension": ".py",
   "mimetype": "text/x-python",
   "name": "python",
   "nbconvert_exporter": "python",
   "pygments_lexer": "ipython3",
   "version": "3.8.16"
  }
 },
 "nbformat": 4,
 "nbformat_minor": 4
}
