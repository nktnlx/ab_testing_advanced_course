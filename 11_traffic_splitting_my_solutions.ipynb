{
 "cells": [
  {
   "cell_type": "markdown",
   "metadata": {},
   "source": [
    "# A/B Testing Course"
   ]
  },
  {
   "cell_type": "markdown",
   "metadata": {},
   "source": [
    "## Lesson 11. Traffic Splitting"
   ]
  },
  {
   "cell_type": "markdown",
   "metadata": {},
   "source": [
    "### Homework"
   ]
  },
  {
   "cell_type": "markdown",
   "metadata": {},
   "source": [
    "#### Task 1. "
   ]
  },
  {
   "cell_type": "markdown",
   "metadata": {},
   "source": [
    "Code `SplittingService` class `add_experiment` method. "
   ]
  },
  {
   "cell_type": "code",
   "execution_count": 1,
   "metadata": {
    "tags": []
   },
   "outputs": [
    {
     "name": "stdout",
     "output_type": "stream",
     "text": [
      "True [[1], [1], [1], [1]]\n",
      "True [[1, 2], [1, 2], [1], [1]]\n",
      "True [[1, 2], [1, 2], [1, 3], [1, 3]]\n",
      "False [[1, 2], [1, 2], [1, 3], [1, 3]]\n",
      "simple test passed\n"
     ]
    }
   ],
   "source": [
    "from pydantic import BaseModel\n",
    "\n",
    "\n",
    "class Experiment(BaseModel):\n",
    "    \"\"\"\n",
    "    id - experiment identifier.\n",
    "    buckets_count - desired number of buckets.\n",
    "    conflicts - a list of experiment identifiers that cannot be run simultaneously on the same users.\n",
    "    \"\"\"\n",
    "    id: int\n",
    "    buckets_count: int\n",
    "    conflicts: list = []\n",
    "\n",
    "\n",
    "class SplittingService:\n",
    "\n",
    "    def __init__(self, buckets_count):\n",
    "        \"\"\"Class for distributing experiments and users into buckets.\n",
    "        \n",
    "        :param buckets_count (int): number of buckets.\n",
    "        \"\"\"\n",
    "        self.buckets_count = buckets_count\n",
    "        self.buckets = [[] for _ in range(buckets_count)]\n",
    "\n",
    "    def add_experiment(self, experiment):\n",
    "        \"\"\"Checks if an experiment can be added, and adds it if possible.\n",
    "\n",
    "        :param experiment (Experiment): experiment parameters to be added\n",
    "        :return success, buckets:\n",
    "            success (boolean) - whether the experiment can be added, True if possible, False otherwise\n",
    "            buckets (list[list[int]]]) - list of buckets, where each bucket contains the identifiers of experiments being conducted in it.\n",
    "        \"\"\"\n",
    "        # YOUR_CODE_HERE\n",
    "        exp_id = experiment.id\n",
    "        exp_buckets = experiment.buckets_count\n",
    "        exp_conflicts = experiment.conflicts\n",
    "        if exp_conflicts == []:\n",
    "            exp_conflicts = [0]\n",
    "        \n",
    "        cnt = 0\n",
    "        for bucket in self.buckets:\n",
    "            for exp_conflict in exp_conflicts:\n",
    "                if exp_conflict in bucket:\n",
    "                    cnt += 1\n",
    "                    break\n",
    "                    \n",
    "        if self.buckets_count - cnt < exp_buckets or self.buckets_count < exp_buckets:\n",
    "            success = False\n",
    "        else:\n",
    "            success = True\n",
    "            \n",
    "        if success == True:\n",
    "            for bucket in range(self.buckets_count):\n",
    "                for exp_conflict in exp_conflicts:\n",
    "                    if exp_conflict in self.buckets[bucket]:\n",
    "                        continue \n",
    "                    elif exp_buckets > 0:\n",
    "                        if exp_id in self.buckets[bucket]:\n",
    "                            continue\n",
    "                        else:\n",
    "                            self.buckets[bucket].append(exp_id)\n",
    "                            exp_buckets -= 1\n",
    "            \n",
    "        return success, self.buckets\n",
    "\n",
    "        \n",
    "def check_correct_buckets(buckets, experiments):\n",
    "    for experiment in experiments:\n",
    "        buckets_with_exp = [b for b in buckets if experiment.id in b]\n",
    "        assert experiment.buckets_count == len(buckets_with_exp), 'Wrong number of buckets with experiments'\n",
    "        parallel_experiments = set(sum(buckets_with_exp, []))\n",
    "        err_msg = 'Incompatible experiments in one bucket'\n",
    "        assert len(set(experiment.conflicts) & parallel_experiments) == 0, err_msg\n",
    "\n",
    "\n",
    "if __name__ == '__main__':\n",
    "    experiments = [\n",
    "        Experiment(id=1, buckets_count=4, conflicts=[4]),\n",
    "        Experiment(id=2, buckets_count=2, conflicts=[3]),\n",
    "        Experiment(id=3, buckets_count=2, conflicts=[2]),\n",
    "        Experiment(id=4, buckets_count=1, conflicts=[1]),\n",
    "    ]\n",
    "    ideal_answers = [True, True, True, False]\n",
    "\n",
    "    splitting_service = SplittingService(buckets_count=4)\n",
    "    added_experiments = []\n",
    "    for index, (experiment, ideal_answer) in enumerate(zip(experiments, ideal_answers)):\n",
    "        success, buckets = splitting_service.add_experiment(experiment)\n",
    "        print(success, buckets)\n",
    "        assert success == ideal_answer, 'The split system is functioning suboptimally or incorrectly.'\n",
    "        if success:\n",
    "            added_experiments.append(experiment)\n",
    "        check_correct_buckets(buckets, added_experiments)\n",
    "    print('simple test passed')"
   ]
  },
  {
   "cell_type": "markdown",
   "metadata": {},
   "source": [
    "#### Task 2. "
   ]
  },
  {
   "cell_type": "markdown",
   "metadata": {},
   "source": [
    "Code `SplittingService` class `process_user` method."
   ]
  },
  {
   "cell_type": "code",
   "execution_count": 2,
   "metadata": {
    "tags": []
   },
   "outputs": [
    {
     "name": "stdout",
     "output_type": "stream",
     "text": [
      "simple test passed\n"
     ]
    }
   ],
   "source": [
    "from pydantic import BaseModel\n",
    "from hashlib import md5\n",
    "\n",
    "\n",
    "class Experiment(BaseModel):\n",
    "    \"\"\"\n",
    "    id - experiment identifier.\n",
    "    salt - experiment salt (for random assignment of users to control/pilot groups).\n",
    "    \"\"\"\n",
    "    id: int\n",
    "    salt: str\n",
    "\n",
    "\n",
    "class SplittingService:\n",
    "\n",
    "    def __init__(self, buckets_count, bucket_salt, buckets=None, id2experiment=None):\n",
    "        \"\"\"Class for distributing experiments and users into buckets.\n",
    "\n",
    "        :param buckets_count (int): number of buckets.\n",
    "        :param bucket_salt (str): salt for user bucketing.\n",
    "        With the same salt, each user should always be assigned to the same bucket.\n",
    "        If the salt is changed, the distribution of users into buckets should change as well.\n",
    "        :param buckets (list[list[int]]) - list of buckets, where each bucket contains the identifiers of experiments conducted in it.\n",
    "        :param id2experiment (dict[int, Experiment]) - dictionary of experiment identifiers to experiments.\n",
    "        \"\"\"\n",
    "        self.buckets_count = buckets_count\n",
    "        self.bucket_salt = bucket_salt\n",
    "        if buckets:\n",
    "            self.buckets = buckets\n",
    "        else:\n",
    "            self.buckets = [[] for _ in range(buckets_count)]\n",
    "        if id2experiment:\n",
    "            self.id2experiment = id2experiment\n",
    "        else:\n",
    "            self.id2experiment = {}\n",
    "\n",
    "    def process_user(self, user_id):\n",
    "        \"\"\"Determines which experiments the user belongs to.\n",
    "\n",
    "        First, the user's bucket needs to be determined.\n",
    "        Then, for each experiment in that bucket, select the pilot or control group.\n",
    "        :param user_id (str): user identifier\n",
    "        :return bucket_id, experiment_groups:\n",
    "            bucket_id (int) - bucket number (index in self.buckets)\n",
    "            experiment_groups (list[tuple]) - list of pairs: experiment id, group. Groups: 'A', 'B'.\n",
    "            Example: (8, [(194, 'A'), (73, 'B')])\n",
    "        \"\"\"\n",
    "        # YOUR_CODE_HERE\n",
    "        def get_bucket(value: str, n: int, salt: str=''):\n",
    "            \"\"\"Determines the bucket based on the id.\n",
    "            \n",
    "            value - unique identifier of the object.\n",
    "            n - number of buckets.\n",
    "            salt - salt for shuffling.\n",
    "            \"\"\"\n",
    "            hash_value = int(md5((value + salt).encode()).hexdigest(), 16)\n",
    "            return hash_value % n\n",
    "        \n",
    "        bucket_no = get_bucket(user_id, self.buckets_count, self.bucket_salt)\n",
    "        \n",
    "        lst = []\n",
    "        groups = {0: 'A', 1: 'B'}\n",
    "        for exp in self.buckets[bucket_no]:\n",
    "            exp_salt = self.id2experiment[exp].salt\n",
    "            group_no = get_bucket(user_id, 2, exp_salt)\n",
    "            lst.append((exp, groups[group_no]))\n",
    "        \n",
    "        return bucket_no, lst\n",
    "        \n",
    "\n",
    "if __name__ == '__main__':\n",
    "    id2experiment = {\n",
    "        0: Experiment(id=0, salt='0'),\n",
    "        1: Experiment(id=1, salt='1')\n",
    "    }\n",
    "    buckets = [[0, 1], [1], [], []]\n",
    "    buckets_count = len(buckets)\n",
    "    bucket_salt = 'a2N4'\n",
    "\n",
    "    splitting_service = SplittingService(buckets_count, bucket_salt, buckets, id2experiment)\n",
    "    user_ids = [str(x) for x in range(1000)]\n",
    "    for user_id in user_ids:\n",
    "        bucket_id, experiment_groups = splitting_service.process_user(user_id)\n",
    "        assert bucket_id in [0, 1, 2, 3], 'Wrong bucket_id'\n",
    "        assert len(experiment_groups) == len(buckets[bucket_id]), 'Wrong number of experiments in a bucket'\n",
    "        for exp_id, group in experiment_groups:\n",
    "            assert exp_id in id2experiment, 'Wrong experiment_id'\n",
    "            assert group in ['A', 'B'], 'Wrong group'\n",
    "    print('simple test passed')"
   ]
  }
 ],
 "metadata": {
  "colab": {
   "collapsed_sections": [
    "KRzEGsPUE-7k"
   ],
   "provenance": []
  },
  "kernelspec": {
   "display_name": "Python 3 (ipykernel)",
   "language": "python",
   "name": "python3"
  },
  "language_info": {
   "codemirror_mode": {
    "name": "ipython",
    "version": 3
   },
   "file_extension": ".py",
   "mimetype": "text/x-python",
   "name": "python",
   "nbconvert_exporter": "python",
   "pygments_lexer": "ipython3",
   "version": "3.8.16"
  }
 },
 "nbformat": 4,
 "nbformat_minor": 4
}
