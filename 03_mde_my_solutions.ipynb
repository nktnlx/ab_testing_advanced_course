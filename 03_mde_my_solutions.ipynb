{
 "cells": [
  {
   "cell_type": "markdown",
   "metadata": {},
   "source": [
    "# A/B Testing Course"
   ]
  },
  {
   "cell_type": "markdown",
   "metadata": {},
   "source": [
    "## Lesson 3. MDE & Sample Size"
   ]
  },
  {
   "cell_type": "markdown",
   "metadata": {},
   "source": [
    "### Homework"
   ]
  },
  {
   "cell_type": "markdown",
   "metadata": {},
   "source": [
    "#### Import Libraries"
   ]
  },
  {
   "cell_type": "code",
   "execution_count": 1,
   "metadata": {
    "executionInfo": {
     "elapsed": 580,
     "status": "ok",
     "timestamp": 1674542192205,
     "user": {
      "displayName": "Nikolay Nazarov",
      "userId": "18018785782997408667"
     },
     "user_tz": -420
    },
    "id": "agQEC38nE-72",
    "tags": []
   },
   "outputs": [],
   "source": [
    "import os\n",
    "import pandas as pd\n",
    "import numpy as np"
   ]
  },
  {
   "cell_type": "code",
   "execution_count": 2,
   "metadata": {},
   "outputs": [],
   "source": [
    "from scipy.stats import norm"
   ]
  },
  {
   "cell_type": "markdown",
   "metadata": {},
   "source": [
    "#### Import Data"
   ]
  },
  {
   "cell_type": "code",
   "execution_count": 3,
   "metadata": {
    "executionInfo": {
     "elapsed": 6,
     "status": "ok",
     "timestamp": 1674542192206,
     "user": {
      "displayName": "Nikolay Nazarov",
      "userId": "18018785782997408667"
     },
     "user_tz": -420
    },
    "id": "xxFeCfFuFKng",
    "tags": []
   },
   "outputs": [],
   "source": [
    "URL_BASE = ''\n",
    "\n",
    "def read_database(file_name):\n",
    "    return pd.read_csv(os.path.join(URL_BASE, file_name))"
   ]
  },
  {
   "cell_type": "code",
   "execution_count": 4,
   "metadata": {
    "executionInfo": {
     "elapsed": 6399,
     "status": "ok",
     "timestamp": 1674542198600,
     "user": {
      "displayName": "Nikolay Nazarov",
      "userId": "18018785782997408667"
     },
     "user_tz": -420
    },
    "id": "nQGxlqByE-73",
    "tags": []
   },
   "outputs": [],
   "source": [
    "df_sales = read_database('2022-04-01T12_df_sales.csv')\n",
    "df_sales['date'] = pd.to_datetime(df_sales['date'])"
   ]
  },
  {
   "cell_type": "markdown",
   "metadata": {
    "tags": []
   },
   "source": [
    "#### Data Description"
   ]
  },
  {
   "cell_type": "markdown",
   "metadata": {
    "id": "nNRTGF6aBHrZ"
   },
   "source": [
    "df_sales - information about purchases, one row represents one order:\n",
    "- sale_id - purchase identifier;\n",
    "- date - date of purchase;\n",
    "- count_pizza - number of pizzas in the order;\n",
    "- count_drink - number of drinks in the order;\n",
    "- price - order price;\n",
    "- user_id - user identifier.   "
   ]
  },
  {
   "cell_type": "markdown",
   "metadata": {
    "tags": []
   },
   "source": [
    "#### Checking Data"
   ]
  },
  {
   "cell_type": "code",
   "execution_count": 5,
   "metadata": {
    "colab": {
     "base_uri": "https://localhost:8080/",
     "height": 204
    },
    "executionInfo": {
     "elapsed": 53,
     "status": "ok",
     "timestamp": 1674542198602,
     "user": {
      "displayName": "Nikolay Nazarov",
      "userId": "18018785782997408667"
     },
     "user_tz": -420
    },
    "id": "0dZkzMMTE-73",
    "outputId": "44f7566a-b32d-4479-b963-7c5977351149",
    "tags": []
   },
   "outputs": [
    {
     "data": {
      "text/html": [
       "<div>\n",
       "<style scoped>\n",
       "    .dataframe tbody tr th:only-of-type {\n",
       "        vertical-align: middle;\n",
       "    }\n",
       "\n",
       "    .dataframe tbody tr th {\n",
       "        vertical-align: top;\n",
       "    }\n",
       "\n",
       "    .dataframe thead th {\n",
       "        text-align: right;\n",
       "    }\n",
       "</style>\n",
       "<table border=\"1\" class=\"dataframe\">\n",
       "  <thead>\n",
       "    <tr style=\"text-align: right;\">\n",
       "      <th></th>\n",
       "      <th>sale_id</th>\n",
       "      <th>date</th>\n",
       "      <th>count_pizza</th>\n",
       "      <th>count_drink</th>\n",
       "      <th>price</th>\n",
       "      <th>user_id</th>\n",
       "    </tr>\n",
       "  </thead>\n",
       "  <tbody>\n",
       "    <tr>\n",
       "      <th>0</th>\n",
       "      <td>1000001</td>\n",
       "      <td>2022-02-04 10:00:24</td>\n",
       "      <td>1</td>\n",
       "      <td>0</td>\n",
       "      <td>720</td>\n",
       "      <td>1c1543</td>\n",
       "    </tr>\n",
       "    <tr>\n",
       "      <th>1</th>\n",
       "      <td>1000002</td>\n",
       "      <td>2022-02-04 10:02:28</td>\n",
       "      <td>1</td>\n",
       "      <td>1</td>\n",
       "      <td>930</td>\n",
       "      <td>a9a6e8</td>\n",
       "    </tr>\n",
       "    <tr>\n",
       "      <th>2</th>\n",
       "      <td>1000003</td>\n",
       "      <td>2022-02-04 10:02:35</td>\n",
       "      <td>3</td>\n",
       "      <td>1</td>\n",
       "      <td>1980</td>\n",
       "      <td>23420a</td>\n",
       "    </tr>\n",
       "    <tr>\n",
       "      <th>3</th>\n",
       "      <td>1000004</td>\n",
       "      <td>2022-02-04 10:03:06</td>\n",
       "      <td>1</td>\n",
       "      <td>1</td>\n",
       "      <td>750</td>\n",
       "      <td>3e8ed5</td>\n",
       "    </tr>\n",
       "    <tr>\n",
       "      <th>4</th>\n",
       "      <td>1000005</td>\n",
       "      <td>2022-02-04 10:03:23</td>\n",
       "      <td>1</td>\n",
       "      <td>1</td>\n",
       "      <td>870</td>\n",
       "      <td>cbc468</td>\n",
       "    </tr>\n",
       "  </tbody>\n",
       "</table>\n",
       "</div>"
      ],
      "text/plain": [
       "   sale_id                date  count_pizza  count_drink  price user_id\n",
       "0  1000001 2022-02-04 10:00:24            1            0    720  1c1543\n",
       "1  1000002 2022-02-04 10:02:28            1            1    930  a9a6e8\n",
       "2  1000003 2022-02-04 10:02:35            3            1   1980  23420a\n",
       "3  1000004 2022-02-04 10:03:06            1            1    750  3e8ed5\n",
       "4  1000005 2022-02-04 10:03:23            1            1    870  cbc468"
      ]
     },
     "execution_count": 5,
     "metadata": {},
     "output_type": "execute_result"
    }
   ],
   "source": [
    "df_sales.head()"
   ]
  },
  {
   "cell_type": "code",
   "execution_count": 6,
   "metadata": {
    "tags": []
   },
   "outputs": [
    {
     "name": "stdout",
     "output_type": "stream",
     "text": [
      "<class 'pandas.core.frame.DataFrame'>\n",
      "RangeIndex: 203847 entries, 0 to 203846\n",
      "Data columns (total 6 columns):\n",
      " #   Column       Non-Null Count   Dtype         \n",
      "---  ------       --------------   -----         \n",
      " 0   sale_id      203847 non-null  int64         \n",
      " 1   date         203847 non-null  datetime64[ns]\n",
      " 2   count_pizza  203847 non-null  int64         \n",
      " 3   count_drink  203847 non-null  int64         \n",
      " 4   price        203847 non-null  int64         \n",
      " 5   user_id      203847 non-null  object        \n",
      "dtypes: datetime64[ns](1), int64(4), object(1)\n",
      "memory usage: 9.3+ MB\n"
     ]
    }
   ],
   "source": [
    "df_sales.info()"
   ]
  },
  {
   "cell_type": "markdown",
   "metadata": {},
   "source": [
    "#### Task 1. "
   ]
  },
  {
   "cell_type": "markdown",
   "metadata": {},
   "source": [
    "Suppose we want to conduct an experiment with customers who made a purchase during the experiment.\n",
    "\n",
    "The metric is the average revenue per user during the experiment;  \n",
    "Duration - one week;  \n",
    "Significance level - 0.05;  \n",
    "Allowable probability of type II error - 0.1;  \n",
    "Expected effect - 20 units;    \n",
    "Estimate the required group size based on purchase data for the week of February 21-28.  \n",
    "\n",
    "As an answer, enter the required size of the groups, rounded to the nearest tens, using `round(x, -1)` function."
   ]
  },
  {
   "cell_type": "code",
   "execution_count": 7,
   "metadata": {
    "tags": []
   },
   "outputs": [],
   "source": [
    "# filtering data by date\n",
    "sales_filt = df_sales[(df_sales['date'] >= '2022-02-21') & \\\n",
    "                      (df_sales['date'] < '2022-02-28')]"
   ]
  },
  {
   "cell_type": "code",
   "execution_count": 8,
   "metadata": {
    "tags": []
   },
   "outputs": [],
   "source": [
    "# grouping data by users and calculating sum of purchases per user\n",
    "sales_by_user = sales_filt.groupby('user_id', as_index=False).agg({'price': 'sum'})"
   ]
  },
  {
   "cell_type": "code",
   "execution_count": 9,
   "metadata": {
    "tags": []
   },
   "outputs": [],
   "source": [
    "# function to determine sample size for absolute change of metric\n",
    "def get_sample_size_abs(epsilon, std, alpha=0.05, beta=0.2):\n",
    "    t_alpha = norm.ppf(1 - alpha / 2, loc=0, scale=1)\n",
    "    t_beta = norm.ppf(1 - beta, loc=0, scale=1)\n",
    "    z_scores_sum_squared = (t_alpha + t_beta) ** 2\n",
    "    sample_size = int(\n",
    "        np.ceil(\n",
    "            z_scores_sum_squared * (2 * std ** 2) / (epsilon ** 2)\n",
    "        )\n",
    "    )\n",
    "    return sample_size"
   ]
  },
  {
   "cell_type": "code",
   "execution_count": 10,
   "metadata": {
    "tags": []
   },
   "outputs": [
    {
     "name": "stdout",
     "output_type": "stream",
     "text": [
      "Recommended group size is: 34,570 clients.\n"
     ]
    }
   ],
   "source": [
    "# calculating recommended group size for our input\n",
    "alpha = 0.05\n",
    "beta = 0.1\n",
    "std_ = sales_by_user.price.std()\n",
    "effect = 20\n",
    "\n",
    "ans = round(get_sample_size_abs(effect, std_, alpha, beta), -1)\n",
    "\n",
    "print(f'Recommended group size is: {ans:,} clients.')"
   ]
  },
  {
   "cell_type": "markdown",
   "metadata": {},
   "source": [
    "#### Task 2."
   ]
  },
  {
   "cell_type": "markdown",
   "metadata": {
    "tags": []
   },
   "source": [
    "In the previous task, it turned out that the required sample size is larger than the available data for one week.  \n",
    "What is the minimum effect that we can detect with the same probabilities of errors using data from February 21 to February 28?  \n",
    "\n",
    "Round the answer to the nearest integer.\n",
    "\n",
    "\n",
    "\n",
    "\n"
   ]
  },
  {
   "cell_type": "code",
   "execution_count": 11,
   "metadata": {
    "tags": []
   },
   "outputs": [],
   "source": [
    "# function to calculate MDE (Minimum Detectable Effect)\n",
    "def get_minimal_determinable_effect(std, sample_size, alpha=0.05, beta=0.2):\n",
    "    t_alpha = norm.ppf(1 - alpha / 2, loc=0, scale=1)\n",
    "    t_beta = norm.ppf(1 - beta, loc=0, scale=1)\n",
    "    disp_sum_sqrt = (2 * (std ** 2)) ** 0.5\n",
    "    mde = (t_alpha + t_beta) * disp_sum_sqrt / np.sqrt(sample_size)\n",
    "    return mde"
   ]
  },
  {
   "cell_type": "code",
   "execution_count": 12,
   "metadata": {
    "tags": []
   },
   "outputs": [
    {
     "name": "stdout",
     "output_type": "stream",
     "text": [
      "Minimum Detectable Effect: 33.0 units.\n"
     ]
    }
   ],
   "source": [
    "# calculating mde for our input\n",
    "ans = round(get_minimal_determinable_effect(std=std_, \n",
    "                                      sample_size=sales_by_user.shape[0]/2,\n",
    "                                      alpha=alpha, \n",
    "                                      beta=beta), 0)\n",
    "\n",
    "print(f'Minimum Detectable Effect: {ans:,} units.')"
   ]
  },
  {
   "cell_type": "markdown",
   "metadata": {},
   "source": [
    "#### Task 3. "
   ]
  },
  {
   "cell_type": "markdown",
   "metadata": {},
   "source": [
    "Write the method `estimate_sample_size` of the class `ExperimentsService`. The description of the method is given in the solution template below.\n",
    "\n",
    "NB!:\n",
    "- The effect size is specified in percentages.\n",
    "- Use the `np.std` function with default parameters to calculate the standard deviation."
   ]
  },
  {
   "cell_type": "code",
   "execution_count": 13,
   "metadata": {
    "tags": []
   },
   "outputs": [
    {
     "name": "stdout",
     "output_type": "stream",
     "text": [
      "simple test passed\n"
     ]
    }
   ],
   "source": [
    "import numpy as np\n",
    "import pandas as pd\n",
    "from pydantic import BaseModel\n",
    "from scipy.stats import norm\n",
    "\n",
    "\n",
    "class Design(BaseModel):\n",
    "    \"\"\"Data class with a description of the experiment parameters.\n",
    "    \n",
    "    statistical_test - type of statistical test ['ttest'] \n",
    "    effect - effect size in percentages\n",
    "    alpha - significance level\n",
    "    beta - allowable probability of type II error\n",
    "    \"\"\"\n",
    "    statistical_test: str\n",
    "    effect: float\n",
    "    alpha: float\n",
    "    beta: float\n",
    "\n",
    "\n",
    "class ExperimentsService:\n",
    "\n",
    "    def estimate_sample_size(self, metrics, design):\n",
    "        \"\"\"We estimate the necessary sample size for testing the hypothesis \n",
    "        of equality of means.\n",
    "\n",
    "        For metrics with a single value per user, simply calculate \n",
    "        the group size using the formula. For metrics with multiple values per user \n",
    "        (e.g. response_time), calculate the necessary amount of data \n",
    "        and divide it by the average number of values per user. \n",
    "        For example, if there are 1000 observations in the metrics table and \n",
    "        100 unique users, and the experiment requires 302 observations, \n",
    "        then the group size will be 31, since on average there are \n",
    "        10 observations per user, which gives a total of \n",
    "        approximately 310 observations in the group.\n",
    "        \n",
    "        :param metrics (pd.DataFrame): DataFrame with metric values from MetricsService.\n",
    "            columns=['user_id', 'metric']\n",
    "        :param design (Design): An object that describes the parameters of the experiment.\n",
    "        :return (int): The minimum required group size (number of users).\n",
    "        \"\"\"\n",
    "        # YOUR_CODE_HERE\n",
    "        alpha = design.alpha\n",
    "        beta = design.beta\n",
    "        effect = 1 + design.effect / 100\n",
    "        std_ = metrics.metric.std(ddof=0)\n",
    "        mean_ = metrics.metric.mean()\n",
    "        \n",
    "        def get_sample_size_abs(epsilon, std, alpha=0.05, beta=0.2):\n",
    "            t_alpha = norm.ppf(1 - alpha / 2, loc=0, scale=1)\n",
    "            t_beta = norm.ppf(1 - beta, loc=0, scale=1)\n",
    "            z_scores_sum_squared = (t_alpha + t_beta) ** 2\n",
    "            sample_size = int(\n",
    "                np.ceil(\n",
    "                    z_scores_sum_squared * (2 * std ** 2) / (epsilon ** 2)\n",
    "                )\n",
    "            )\n",
    "            return sample_size\n",
    "        \n",
    "        def get_sample_size_arb(mu, std, eff=1.01, alpha=0.05, beta=0.2):\n",
    "            epsilon = (eff - 1) * mu\n",
    "            return get_sample_size_abs(epsilon, std=std, alpha=alpha, beta=beta)\n",
    "        \n",
    "        if metrics.user_id.nunique() == metrics.shape[0]:\n",
    "            return get_sample_size_arb(mean_, std_, effect, alpha, beta)\n",
    "        else:\n",
    "            mean_values = metrics.shape[0] / metrics.user_id.nunique()\n",
    "            return int(np.ceil(get_sample_size_arb(mean_, std_, effect, alpha, beta) / mean_values))\n",
    "        \n",
    "\n",
    "\n",
    "if __name__ == '__main__':\n",
    "    metrics = pd.DataFrame({\n",
    "        'user_id': [str(i) for i in range(10)],\n",
    "        'metric': [i for i in range(10)]\n",
    "    })\n",
    "    design = Design(\n",
    "        statistical_test='ttest',\n",
    "        alpha=0.05,\n",
    "        beta=0.1,\n",
    "        effect=3.\n",
    "    )\n",
    "    ideal_sample_size = 9513\n",
    "\n",
    "    experiments_service = ExperimentsService()\n",
    "    sample_size = experiments_service.estimate_sample_size(metrics, design)\n",
    "    assert sample_size == ideal_sample_size, 'Wrong!'\n",
    "    print('simple test passed')"
   ]
  }
 ],
 "metadata": {
  "colab": {
   "collapsed_sections": [
    "KRzEGsPUE-7k"
   ],
   "provenance": []
  },
  "kernelspec": {
   "display_name": "Python 3 (ipykernel)",
   "language": "python",
   "name": "python3"
  },
  "language_info": {
   "codemirror_mode": {
    "name": "ipython",
    "version": 3
   },
   "file_extension": ".py",
   "mimetype": "text/x-python",
   "name": "python",
   "nbconvert_exporter": "python",
   "pygments_lexer": "ipython3",
   "version": "3.7.11"
  }
 },
 "nbformat": 4,
 "nbformat_minor": 4
}
