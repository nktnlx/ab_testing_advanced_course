{
 "cells": [
  {
   "cell_type": "markdown",
   "metadata": {},
   "source": [
    "# A/B Testing Course"
   ]
  },
  {
   "cell_type": "markdown",
   "metadata": {},
   "source": [
    "## Lesson 8. Stratification"
   ]
  },
  {
   "cell_type": "markdown",
   "metadata": {},
   "source": [
    "### Homework"
   ]
  },
  {
   "cell_type": "markdown",
   "metadata": {},
   "source": [
    "#### Import Libraries"
   ]
  },
  {
   "cell_type": "code",
   "execution_count": 1,
   "metadata": {
    "executionInfo": {
     "elapsed": 580,
     "status": "ok",
     "timestamp": 1674542192205,
     "user": {
      "displayName": "Nikolay Nazarov",
      "userId": "18018785782997408667"
     },
     "user_tz": -420
    },
    "id": "agQEC38nE-72",
    "tags": []
   },
   "outputs": [],
   "source": [
    "import os\n",
    "import pandas as pd\n",
    "import numpy as np\n",
    "\n",
    "import seaborn as sns\n",
    "import matplotlib.pyplot as plt"
   ]
  },
  {
   "cell_type": "code",
   "execution_count": 2,
   "metadata": {},
   "outputs": [],
   "source": [
    "from datetime import datetime"
   ]
  },
  {
   "cell_type": "code",
   "execution_count": 3,
   "metadata": {},
   "outputs": [],
   "source": [
    "from scipy.stats import ttest_ind"
   ]
  },
  {
   "cell_type": "markdown",
   "metadata": {},
   "source": [
    "#### Import Data"
   ]
  },
  {
   "cell_type": "code",
   "execution_count": 4,
   "metadata": {
    "executionInfo": {
     "elapsed": 6399,
     "status": "ok",
     "timestamp": 1674542198600,
     "user": {
      "displayName": "Nikolay Nazarov",
      "userId": "18018785782997408667"
     },
     "user_tz": -420
    },
    "id": "nQGxlqByE-73",
    "tags": []
   },
   "outputs": [],
   "source": [
    "df = pd.read_csv('stratification_task_data_public.csv')"
   ]
  },
  {
   "cell_type": "markdown",
   "metadata": {
    "tags": []
   },
   "source": [
    "#### Data Description"
   ]
  },
  {
   "cell_type": "markdown",
   "metadata": {},
   "source": [
    "df:\n",
    "- x1, ..., x10 - stratification features\n",
    "- y - metric value"
   ]
  },
  {
   "cell_type": "markdown",
   "metadata": {
    "tags": []
   },
   "source": [
    "#### Checking Data"
   ]
  },
  {
   "cell_type": "code",
   "execution_count": 5,
   "metadata": {
    "tags": []
   },
   "outputs": [
    {
     "data": {
      "text/html": [
       "<div>\n",
       "<style scoped>\n",
       "    .dataframe tbody tr th:only-of-type {\n",
       "        vertical-align: middle;\n",
       "    }\n",
       "\n",
       "    .dataframe tbody tr th {\n",
       "        vertical-align: top;\n",
       "    }\n",
       "\n",
       "    .dataframe thead th {\n",
       "        text-align: right;\n",
       "    }\n",
       "</style>\n",
       "<table border=\"1\" class=\"dataframe\">\n",
       "  <thead>\n",
       "    <tr style=\"text-align: right;\">\n",
       "      <th></th>\n",
       "      <th>x1</th>\n",
       "      <th>x2</th>\n",
       "      <th>x3</th>\n",
       "      <th>x4</th>\n",
       "      <th>x5</th>\n",
       "      <th>x6</th>\n",
       "      <th>x7</th>\n",
       "      <th>x8</th>\n",
       "      <th>x9</th>\n",
       "      <th>x10</th>\n",
       "      <th>y</th>\n",
       "    </tr>\n",
       "  </thead>\n",
       "  <tbody>\n",
       "    <tr>\n",
       "      <th>0</th>\n",
       "      <td>0.869</td>\n",
       "      <td>30</td>\n",
       "      <td>33.8</td>\n",
       "      <td>0</td>\n",
       "      <td>1</td>\n",
       "      <td>0.2</td>\n",
       "      <td>1992</td>\n",
       "      <td>1</td>\n",
       "      <td>1</td>\n",
       "      <td>1</td>\n",
       "      <td>1903</td>\n",
       "    </tr>\n",
       "    <tr>\n",
       "      <th>1</th>\n",
       "      <td>0.759</td>\n",
       "      <td>27</td>\n",
       "      <td>21.7</td>\n",
       "      <td>2</td>\n",
       "      <td>0</td>\n",
       "      <td>3.5</td>\n",
       "      <td>1995</td>\n",
       "      <td>1</td>\n",
       "      <td>1</td>\n",
       "      <td>2</td>\n",
       "      <td>1313</td>\n",
       "    </tr>\n",
       "    <tr>\n",
       "      <th>2</th>\n",
       "      <td>0.456</td>\n",
       "      <td>29</td>\n",
       "      <td>37.6</td>\n",
       "      <td>2</td>\n",
       "      <td>0</td>\n",
       "      <td>3.1</td>\n",
       "      <td>1993</td>\n",
       "      <td>0</td>\n",
       "      <td>0</td>\n",
       "      <td>0</td>\n",
       "      <td>1484</td>\n",
       "    </tr>\n",
       "    <tr>\n",
       "      <th>3</th>\n",
       "      <td>0.060</td>\n",
       "      <td>35</td>\n",
       "      <td>27.5</td>\n",
       "      <td>2</td>\n",
       "      <td>0</td>\n",
       "      <td>4.7</td>\n",
       "      <td>1988</td>\n",
       "      <td>0</td>\n",
       "      <td>0</td>\n",
       "      <td>1</td>\n",
       "      <td>1188</td>\n",
       "    </tr>\n",
       "    <tr>\n",
       "      <th>4</th>\n",
       "      <td>0.939</td>\n",
       "      <td>19</td>\n",
       "      <td>30.7</td>\n",
       "      <td>0</td>\n",
       "      <td>0</td>\n",
       "      <td>3.6</td>\n",
       "      <td>2003</td>\n",
       "      <td>1</td>\n",
       "      <td>1</td>\n",
       "      <td>2</td>\n",
       "      <td>842</td>\n",
       "    </tr>\n",
       "  </tbody>\n",
       "</table>\n",
       "</div>"
      ],
      "text/plain": [
       "      x1  x2    x3  x4  x5   x6    x7  x8  x9  x10     y\n",
       "0  0.869  30  33.8   0   1  0.2  1992   1   1    1  1903\n",
       "1  0.759  27  21.7   2   0  3.5  1995   1   1    2  1313\n",
       "2  0.456  29  37.6   2   0  3.1  1993   0   0    0  1484\n",
       "3  0.060  35  27.5   2   0  4.7  1988   0   0    1  1188\n",
       "4  0.939  19  30.7   0   0  3.6  2003   1   1    2   842"
      ]
     },
     "execution_count": 5,
     "metadata": {},
     "output_type": "execute_result"
    }
   ],
   "source": [
    "df.head()"
   ]
  },
  {
   "cell_type": "code",
   "execution_count": 6,
   "metadata": {
    "tags": []
   },
   "outputs": [
    {
     "name": "stdout",
     "output_type": "stream",
     "text": [
      "<class 'pandas.core.frame.DataFrame'>\n",
      "RangeIndex: 10000 entries, 0 to 9999\n",
      "Data columns (total 11 columns):\n",
      " #   Column  Non-Null Count  Dtype  \n",
      "---  ------  --------------  -----  \n",
      " 0   x1      10000 non-null  float64\n",
      " 1   x2      10000 non-null  int64  \n",
      " 2   x3      10000 non-null  float64\n",
      " 3   x4      10000 non-null  int64  \n",
      " 4   x5      10000 non-null  int64  \n",
      " 5   x6      10000 non-null  float64\n",
      " 6   x7      10000 non-null  int64  \n",
      " 7   x8      10000 non-null  int64  \n",
      " 8   x9      10000 non-null  int64  \n",
      " 9   x10     10000 non-null  int64  \n",
      " 10  y       10000 non-null  int64  \n",
      "dtypes: float64(3), int64(8)\n",
      "memory usage: 859.5 KB\n"
     ]
    }
   ],
   "source": [
    "df.info()"
   ]
  },
  {
   "cell_type": "markdown",
   "metadata": {},
   "source": [
    "#### Task 1. "
   ]
  },
  {
   "cell_type": "markdown",
   "metadata": {},
   "source": [
    "Let's assume we have a set of features that are calculated independently of the experiment. Using these features, we need to divide the objects into strata so that the variance of the stratified mean is minimized and the proportion of each stratum is at least 5% of all data.\n",
    "Implement a function to divide objects into strata."
   ]
  },
  {
   "cell_type": "code",
   "execution_count": 7,
   "metadata": {
    "tags": []
   },
   "outputs": [
    {
     "data": {
      "image/png": "[encoded data removed]",
      "text/plain": [
       "<Figure size 640x480 with 1 Axes>"
      ]
     },
     "metadata": {},
     "output_type": "display_data"
    }
   ],
   "source": [
    "# grouping by x2 feature and calculating metrics means\n",
    "df.groupby('x2', as_index=False).agg({'y':'mean'}).plot(x='x2', y='y');"
   ]
  },
  {
   "cell_type": "code",
   "execution_count": 8,
   "metadata": {
    "tags": []
   },
   "outputs": [],
   "source": [
    "# spliting x2 feature values into categories\n",
    "df['category'] = pd.cut(df.x2, bins=[11, 23, 26, 31, 33, 36, 50], labels=['1', '2', '3', '4', '5', '6'])"
   ]
  },
  {
   "cell_type": "code",
   "execution_count": 9,
   "metadata": {
    "tags": []
   },
   "outputs": [
    {
     "data": {
      "text/plain": [
       "3    0.4112\n",
       "2    0.1490\n",
       "4    0.1447\n",
       "5    0.1358\n",
       "6    0.0825\n",
       "1    0.0768\n",
       "Name: category, dtype: float64"
      ]
     },
     "execution_count": 9,
     "metadata": {},
     "output_type": "execute_result"
    }
   ],
   "source": [
    "# checking that none of the categories is less tha 5% size\n",
    "df.category.value_counts(normalize=True)"
   ]
  },
  {
   "cell_type": "code",
   "execution_count": 10,
   "metadata": {
    "tags": []
   },
   "outputs": [
    {
     "data": {
      "text/plain": [
       "<AxesSubplot:xlabel='category'>"
      ]
     },
     "execution_count": 10,
     "metadata": {},
     "output_type": "execute_result"
    },
    {
     "data": {
      "image/png": "[encoded data removed]",
      "text/plain": [
       "<Figure size 640x480 with 1 Axes>"
      ]
     },
     "metadata": {},
     "output_type": "display_data"
    }
   ],
   "source": [
    "# # grouping by category feature and calculating metrics means\n",
    "df.groupby('category', as_index=False).agg({'y':'mean'}).plot(x='category', y='y')"
   ]
  },
  {
   "cell_type": "code",
   "execution_count": 11,
   "metadata": {
    "tags": []
   },
   "outputs": [
    {
     "name": "stdout",
     "output_type": "stream",
     "text": [
      "Perfect! Variance equal to 49850.9, that is less than our boundary 50000\n"
     ]
    }
   ],
   "source": [
    "# implementing our categroies for stratification\n",
    "def get_strats(df: pd.DataFrame):\n",
    "    \"\"\"Returns strats for our data.\n",
    "    \n",
    "    :return (list | np.array | pd.Series): list of starts.\n",
    "    \"\"\"\n",
    "    # YOUR_CODE_HERE\n",
    "    df['category'] = pd.cut(df.x2, \n",
    "                            bins=[11, 23, 26, 31, 33, 36, 50],\n",
    "                            labels=['1', '2', '3', '4', '5', '6'])\n",
    "    return df.category.to_list()\n",
    "\n",
    "\n",
    "def calculate_strat_var(df):\n",
    "    \"\"\"Calculating stratified variation of the population.\"\"\"\n",
    "    strat_vars = df.groupby('strat')['y'].var()\n",
    "    weights = df['strat'].value_counts(normalize=True)\n",
    "    stratified_var = (strat_vars * weights).sum()\n",
    "    return stratified_var\n",
    "\n",
    "\n",
    "if __name__ == \"__main__\":\n",
    "    bound = 50000\n",
    "    df = pd.read_csv('stratification_task_data_public.csv')\n",
    "    strats = get_strats(df.drop('y', axis=1))\n",
    "    assert len(strats) == len(df), \"Wrong size of strats list\"\n",
    "    min_part = pd.Series(strats).value_counts(normalize=True).min()\n",
    "    assert min_part >= 0.05, \"Minimal size of a strata is less than 5%\"\n",
    "    df['strat'] = strats\n",
    "    strat_var = calculate_strat_var(df)\n",
    "    err_msg = f\"Variance equal to {strat_var:0.1f}, and we have to lower it below {bound}\"\n",
    "    assert strat_var <= bound, err_msg\n",
    "    print(f'Perfect! Variance equal to {strat_var:0.1f}, that is less than our boundary {bound}')"
   ]
  },
  {
   "cell_type": "markdown",
   "metadata": {},
   "source": [
    "#### Task 2. "
   ]
  },
  {
   "cell_type": "markdown",
   "metadata": {},
   "source": [
    "You need to write a function that will stratify the clients and distribute them among groups.\n",
    "\n",
    "We will consider the distribution among groups to be stratified if the number of clients in each stratum differs by no more than 1.\n",
    "\n",
    "Implement the function `split_stratified`."
   ]
  },
  {
   "cell_type": "code",
   "execution_count": 12,
   "metadata": {
    "tags": []
   },
   "outputs": [
    {
     "name": "stdout",
     "output_type": "stream",
     "text": [
      "simple test passed\n"
     ]
    }
   ],
   "source": [
    "import numpy as np\n",
    "import pandas as pd\n",
    "\n",
    "\n",
    "def split_stratified(strats: np.array) -> np.array:\n",
    "    \"\"\"Распределяет объекты по группам (контрольная и экспериментальная).\n",
    "    \n",
    "    :param strats: массив с разбиением на страты.\n",
    "    :return: массив из 0 и 1, 0 - контрольная группа, 1 - экспериментальная.\n",
    "    \"\"\"\n",
    "    # YOUR_CODE_HERE\n",
    "    strats_u = set(strats.tolist())\n",
    "    vals = strats.tolist()\n",
    "\n",
    "    dct = dict()\n",
    "    for strat in strats_u:\n",
    "        dct[strat] = list()\n",
    "        for i in range(len(vals)):\n",
    "            if vals[i] == strat:\n",
    "                dct[strat].append(i)\n",
    "\n",
    "    groups = [False] * len(vals)\n",
    "    for k in dct:\n",
    "        lst = dct[k]\n",
    "        np.random.shuffle(lst)\n",
    "        mid = len(lst) // 2\n",
    "        a = dct[k][:mid]\n",
    "        b = dct[k][mid:]\n",
    "        for idx in a:\n",
    "            groups[idx] = 0\n",
    "        for idx in b:\n",
    "            groups[idx] = 1\n",
    "    \n",
    "    return groups\n",
    "    \n",
    "\n",
    "def check_split(df: pd.DataFrame):\n",
    "    \"\"\"Проверяет корректность разбиения на страты.\n",
    "    \n",
    "    :param df: датафрейм с двумя столбцами: ['strat', 'group'].\n",
    "    \"\"\"\n",
    "    df_agg = (\n",
    "        df\n",
    "        .groupby(['strat', 'group'])[['group']].count()\n",
    "        .rename(columns={'group': 'count'})\n",
    "        .reset_index()\n",
    "    )\n",
    "    df_pivot = df_agg.pivot(index='strat', values='count', columns='group')\n",
    "    max_delta = (df_pivot[0] - df_pivot[1]).abs().max()\n",
    "    assert max_delta <= 1, \"Размеры страт между группами отличаются более чем на 1.\"\n",
    "\n",
    "\n",
    "if __name__ == \"__main__\":\n",
    "    df = pd.DataFrame({'strat': [1, 2, 2, 2, 1, 1, 1, 3, 3]})\n",
    "    df['group'] = split_stratified(df['strat'].values)\n",
    "    check_split(df)\n",
    "    print('simple test passed')"
   ]
  },
  {
   "cell_type": "markdown",
   "metadata": {},
   "source": [
    "#### Task 3. "
   ]
  },
  {
   "cell_type": "code",
   "execution_count": null,
   "metadata": {},
   "outputs": [],
   "source": [
    "tbc.."
   ]
  }
 ],
 "metadata": {
  "colab": {
   "collapsed_sections": [
    "KRzEGsPUE-7k"
   ],
   "provenance": []
  },
  "kernelspec": {
   "display_name": "Python 3 (ipykernel)",
   "language": "python",
   "name": "python3"
  },
  "language_info": {
   "codemirror_mode": {
    "name": "ipython",
    "version": 3
   },
   "file_extension": ".py",
   "mimetype": "text/x-python",
   "name": "python",
   "nbconvert_exporter": "python",
   "pygments_lexer": "ipython3",
   "version": "3.7.11"
  }
 },
 "nbformat": 4,
 "nbformat_minor": 4
}
